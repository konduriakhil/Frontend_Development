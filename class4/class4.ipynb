{
 "cells": [
  {
   "cell_type": "markdown",
   "id": "b3315192",
   "metadata": {},
   "source": [
    "# Operators in Java Script\n",
    " ------------------------------------------\n",
    "* +\n",
    "* -\n",
    "* *\n",
    "* / - division\n",
    "* % - modulus division (remainder)\n",
    "* = - Assignment operator\n",
    "* == - comparison operator\n",
    "* === - comparison operator\n",
    "* && - logical AND\n",
    "* || - logical OR\n",
    "* ! - logical NOT"
   ]
  },
  {
   "cell_type": "markdown",
   "id": "bc865798",
   "metadata": {},
   "source": [
    "<!--  This is sample  Java Script file   -->\n",
    "\n",
    "\n",
    "\n",
    "<html>\n",
    "    <head>\n",
    "        <title>This is java script tab</title>\n",
    "    </head>\n",
    "    <body>\n",
    "        <h1>This is Java Script</h1>\n",
    "        <script>\n",
    "            let x = 999 \n",
    "            document.write(x)\n",
    "            console.log('this is my first attempt')\n",
    "        </script>\n",
    "    </body>\n",
    "</html>"
   ]
  }
 ],
 "metadata": {
  "language_info": {
   "name": "python"
  }
 },
 "nbformat": 4,
 "nbformat_minor": 5
}
