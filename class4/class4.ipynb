{
 "cells": [
  {
   "cell_type": "markdown",
   "id": "b3315192",
   "metadata": {},
   "source": [
    "# Operators in Java Script\n",
    " ------------------------------------------\n",
    "* `+`\n",
    "* `-`\n",
    "* `*`\n",
    "* / - division\n",
    "* % - modulus division (remainder)\n",
    "* = - Assignment operator\n",
    "* == - comparison operator\n",
    "* === - comparison operator\n",
    "* && - logical AND\n",
    "* || - logical OR\n",
    "* ! - logical NOT"
   ]
  },
  {
   "cell_type": "markdown",
   "id": "bc865798",
   "metadata": {},
   "source": [
    "```html\n",
    "<!--  This is sample  Java Script file   -->\n",
    "\n",
    "\n",
    "\n",
    "<html>\n",
    "    <head>\n",
    "        <title>This is java script tab</title>\n",
    "    </head>\n",
    "    <body>\n",
    "        <h1>This is Java Script</h1>\n",
    "        <script>\n",
    "            var x = 300;\n",
    "            var y = 100;\n",
    "            var sum = x + y;\n",
    "            var sub = x - y;\n",
    "            var div = x / y;\n",
    "            document.write(sum);\n",
    "            document.write(sub);\n",
    "            document.write(div);\n",
    "            console.log(sum, sub, div);\n",
    "        </script>\n",
    "    </body>\n",
    "</html>\n",
    "```"
   ]
  },
  {
   "cell_type": "markdown",
   "id": "d91e6105",
   "metadata": {},
   "source": [
    "* In JS, + is used for the addition, \n",
    "* we can also use + for concatination operator or Joining Operator\n",
    "* "
   ]
  },
  {
   "cell_type": "markdown",
   "id": "f67a4bb2",
   "metadata": {},
   "source": [
    "```html\n",
    "<!--  This is sample  Java Script file   -->\n",
    "\n",
    "\n",
    "\n",
    "<html>\n",
    "    <head>\n",
    "        <title>This is java script tab</title>\n",
    "    </head>\n",
    "    <body>\n",
    "        <h1>This is Java Script</h1>\n",
    "        <script>\n",
    "            var x = '300';//\n",
    "            var y = 100;//\n",
    "            var sum = x + y;\n",
    "            var sub = x - y;\n",
    "            var div = x / y;\n",
    "            document.write(sum);// concatination\n",
    "            document.write(sub);\n",
    "            document.write(div);\n",
    "            console.log(sum, sub, div);\n",
    "        </script>\n",
    "    </body>\n",
    "</html>\n",
    "```"
   ]
  },
  {
   "cell_type": "markdown",
   "id": "4dd89393",
   "metadata": {},
   "source": [
    "## typeof"
   ]
  },
  {
   "cell_type": "markdown",
   "id": "cf81282c",
   "metadata": {},
   "source": [
    "```html\n",
    "<!--  This is sample  Java Script file   -->\n",
    "\n",
    "\n",
    "\n",
    "<html>\n",
    "    <head>\n",
    "        <title>This is java script tab</title>\n",
    "    </head>\n",
    "    <body>\n",
    "        <h1>This is Java Script</h1>\n",
    "        <script>\n",
    "            var x = '300';//\n",
    "            var y = '100';//\n",
    "            var sum = x + y;\n",
    "            document.write(typeof sum);// concatination\n",
    "\n",
    "            /*var sub = x - y;\n",
    "            var div = x / y;\n",
    "            document.write(sub);\n",
    "            document.write(div);\n",
    "            console.log(sum, sub, div);\n",
    "            */\n",
    "        </script>\n",
    "    </body>\n",
    "</html>\n",
    "```"
   ]
  }
 ],
 "metadata": {
  "language_info": {
   "name": "python"
  }
 },
 "nbformat": 4,
 "nbformat_minor": 5
}
