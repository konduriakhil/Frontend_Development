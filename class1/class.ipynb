{
 "cells": [
  {
   "cell_type": "markdown",
   "id": "4725c824",
   "metadata": {},
   "source": [
    "# JavaScript\n",
    "\n",
    "## Class-1\n",
    "\n",
    "JavaScript is a very important concept for web development.\n",
    "\n",
    "It enables **interactions on web pages**.  \n",
    "Without interactions, a website is considered a **static website**.\n",
    "\n",
    "---\n",
    "\n",
    "## Key Uses of JavaScript\n",
    "\n",
    "1. **Implement Interactions on Web Pages**  \n",
    "   - On page load: show slides  \n",
    "   - On button click: open/close popups  \n",
    "\n",
    "2. **Build Gaming Applications & Animations**  \n",
    "\n",
    "3. **Validate Forms**  \n",
    "   - Registration, Login, etc.\n",
    "\n",
    "> JavaScript is like an ocean.  \n",
    "> 99% of websites worldwide use JavaScript.\n",
    "\n",
    "4. **Develop Libraries and Frameworks**\n",
    "   - jQuery  \n",
    "   - React.js  \n",
    "   - Angular  \n",
    "   - Node.js  \n",
    "   - Vue.js  \n",
    "\n",
    "5. **Create Server-Side Applications**\n",
    "   - Yes, using **Node.js**\n"
   ]
  }
 ],
 "metadata": {
  "language_info": {
   "name": "python"
  }
 },
 "nbformat": 4,
 "nbformat_minor": 5
}
